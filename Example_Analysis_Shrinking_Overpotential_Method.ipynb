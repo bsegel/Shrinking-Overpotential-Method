{
 "cells": [
  {
   "cell_type": "markdown",
   "metadata": {},
   "source": [
    "# Simulated Data Exemplifying the Shrinking Overpotential Method"
   ]
  },
  {
   "cell_type": "code",
   "execution_count": 12,
   "metadata": {},
   "outputs": [],
   "source": [
    "#import packages to use\n",
    "import csv\n",
    "import numpy as np\n",
    "import matplotlib.pyplot as plt\n",
    "from scipy.optimize import curve_fit\n",
    "import functools\n",
    "from functools import partial\n",
    "import scipy.stats as st\n",
    "import random\n",
    "from scipy.signal import find_peaks"
   ]
  },
  {
   "cell_type": "code",
   "execution_count": 13,
   "metadata": {
    "tags": []
   },
   "outputs": [],
   "source": [
    "def read_DE(file):\n",
    "    \"\"\"\n",
    "    Objective\n",
    "    ----------\n",
    "    To read simulated CV data from DigiElch and export voltage and current data\n",
    "    Parameters\n",
    "    ----------\n",
    "    file : :obj:`txt file`\n",
    "        a text file exported from Digielch Software containing voltage data (V) and current data (I).\n",
    "    \"\"\"\n",
    "    file_as_text = []\n",
    "    #open file and read as a csv file\n",
    "    with open(file, newline='') as csvfile:\n",
    "        spamreader = csv.reader(csvfile, delimiter='\\t', quotechar=',')\n",
    "        for row in spamreader:\n",
    "            file_as_text.extend([row])\n",
    "            \n",
    "    #delete header information\n",
    "    file_as_text=file_as_text[2::]\n",
    "    \n",
    "    #make empty arrays \n",
    "    V=[]\n",
    "    I=[]\n",
    "    curve_data_raw = []\n",
    "    curve_data_IV = []\n",
    "    curve_data_raw.extend([[]]) #make empty arrays\n",
    "    curve_data_IV.extend([[]])\n",
    "    \n",
    "    #iterate through rows and add each data point to a current and voltage array\n",
    "    for row in file_as_text[0::]: \n",
    "        curve_data_raw.extend([row]) #in each column slot in a row, add index  of stuff in matrix\n",
    "        curve_data_IV.extend([[float(val) for val in row[0::]]])\n",
    "    \n",
    "    #delete initial empty array\n",
    "    curve_data=curve_data_IV[1::]\n",
    "    \n",
    "    #transpose so we separate voltage and current data\n",
    "    curve_data=np.transpose(curve_data)\n",
    "    V_sim=curve_data[0]\n",
    "    I_sim=curve_data[1]*-1\n",
    "    \n",
    "    return V_sim, I_sim"
   ]
  },
  {
   "cell_type": "code",
   "execution_count": 14,
   "metadata": {
    "tags": []
   },
   "outputs": [],
   "source": [
    "#set up parameters, color pallet, and call reach_DE function\n",
    "area= np.pi #cm^2 this is the simulated area\n",
    "orange= '#F5793A'\n",
    "purple= '#A95AA1'\n",
    "lblue= '#85C0F9'\n",
    "dblue='#0F2080'\n",
    "gray='#899499'\n",
    "black='#000000'\n",
    "violet='#EE82EE'\n",
    "colors=[orange, purple, lblue,dblue,gray,black,violet]\n",
    "increment=0.003 #voltage the CV shrinks \n",
    "p2p_str= '/Insert_paths_to_plot_here/'\n",
    "T=298#K\n",
    "n=1#electron\n",
    "M=1#Mol total of active material\n",
    "F=96485 #Faraday's constant [coulomb/mol]\n",
    "R=8.314 #J/mol-K\n",
    "\n",
    "file='/Insert_file_path_here/ko_0.0001_SOC_50.txt'\n",
    "V,I=read_DE(file)\n"
   ]
  },
  {
   "cell_type": "code",
   "execution_count": 15,
   "metadata": {},
   "outputs": [],
   "source": [
    "def fit_ko(eta,ko,oxidation):\n",
    "    \"\"\"\n",
    "    Objective\n",
    "    ----------\n",
    "    To fit current and overpotential data to the BV equation and return ko\n",
    "    Parameters\n",
    "    ----------\n",
    "    eta : :obj:`numpy.ndarray`\n",
    "        An array of overpotential values [V]\n",
    "    oxidation : :obj:`numpy.float64`\n",
    "        A concentration value of oxidized species [M]\n",
    "    Formal : :obj: `numpy.float64`\n",
    "        The formal reduction potential from this set of CV data [V]\n",
    "    ko : :obj: to be fitted\n",
    "        concentration of oxidized species resulting from CV Data [M]\n",
    "    \"\"\"\n",
    "    \n",
    "    A = np.pi # area in cm^2 of CF microelectrode\n",
    "    Tsys = 298 #K\n",
    "    Rgas = 8.314 #J/mol-K\n",
    "    F = 96485 #C/mol\n",
    "    alpha = 0.5\n",
    "    C0 = oxidation #mol/L concentration of oxidized species\n",
    "    CR = 1 - C0 #mol/L concentration of reduced species\n",
    "\n",
    "    return -ko/1000*F*A*(C0*np.exp(-alpha*F/Rgas/Tsys*eta)-CR*np.exp((1-alpha)*F/Rgas/Tsys*eta))\n"
   ]
  },
  {
   "cell_type": "code",
   "execution_count": 16,
   "metadata": {
    "tags": []
   },
   "outputs": [],
   "source": [
    "def Solve_ko(x_data,y_data, SOC, FRP, ox, increment, guess, path_to_plots= p2p_str ):\n",
    "    \"\"\"\n",
    "    Objective\n",
    "    ----------\n",
    "    Initialize parameters to fit current and overpotential data to the BV equation and plot results\n",
    "    Parameters\n",
    "    ----------\n",
    "    x_data : :obj:`numpy.ndarray`\n",
    "        An array of eta.\n",
    "    y_data : :obj:`numpy.ndarray`\n",
    "        An array of I.\n",
    "    SOC : :obj: `numpy.float64`\n",
    "        State of Charge of this set of current and overpotential data\n",
    "    FRP : :obj: `numpy.float64`\n",
    "        formal reduction potential\n",
    "    ox : :obj: `numpy.float64`\n",
    "        concentration of oxidized species resulting from CV Data\n",
    "    increment: :obj: `int`\n",
    "        Voltage the data shrinks by with each iteration\n",
    "    path_to_plots : :obj:`str`\n",
    "        local path to save pngs and gif \n",
    "    \"\"\"\n",
    "    T=298#K\n",
    "    n=1#electron\n",
    "    F=96485 #Faraday's constant [coulomb/mol]\n",
    "    R=8.314 #J/mol-K\n",
    "    \n",
    "    #take out all cases if the mean data is nan\n",
    "    x_data = [x for x in x_data if np.isnan(x) == False]\n",
    "    y_data = [y for y in y_data if np.isnan(y) == False]\n",
    "\n",
    "    #set up empty arays for results of BV fit\n",
    "    ko_array = []\n",
    "    max_eta = []\n",
    "    sigma=[]\n",
    "    iterative_eta=[]\n",
    "    iterative_I=[]\n",
    "\n",
    "    # make graphics or not\n",
    "    if path_to_plots != None:\n",
    "        images = []\n",
    "    x_data=np.array(x_data)\n",
    "    y_data=np.array(y_data)\n",
    "    \n",
    "    #create range of voltage values to cycle over\n",
    "    #based on max V data and increment\n",
    "    if abs(max(x_data)) > abs(min(x_data)):\n",
    "        max_x=abs(min(x_data))\n",
    "    else:\n",
    "        max_x=max(x_data)\n",
    "        \n",
    "    max_val = round(max_x,1)\n",
    "    max_val = max_val-increment/2\n",
    "    #arange(start,stop,step size)\n",
    "    overp_all = np.arange(start=max_val, stop=0, step=-increment)\n",
    "\n",
    "    #iterate through x_range while decreasing overpotential\n",
    "    for index in range(len(overp_all)):\n",
    "        # look at all indicies in x_range\n",
    "        overp = overp_all[index]\n",
    "        indicies = []\n",
    "        x_data_new=[]\n",
    "        y_data_new=[]\n",
    "        # iterate through all x_data looking for values within the defined x_range\n",
    "        for i in range(len(x_data)):\n",
    "            x = x_data[i]\n",
    "            if abs(x) <= overp:\n",
    "                #bin data\n",
    "                indicies.append(i)\n",
    "                x_data_new = np.append(x_data_new, x_data[i]) #put data in new array for the next cycle\n",
    "                y_data_new = np.append(y_data_new, y_data[i])\n",
    "                \n",
    "        # make shrinking graph figure name\n",
    "        if path_to_plots != None:\n",
    "            figure_name = path_to_plots+str(index)+'.png'\n",
    "            images.append(figure_name)\n",
    "            \n",
    "        # break when we run out of data to cut\n",
    "        if len(y_data_new) == 0:\n",
    "            break\n",
    "            \n",
    "        # do the BV fit\n",
    "        else:\n",
    "            #allows for additional arguments into the curve_fit function by redefining the fit_ko function \n",
    "            fit_ko_new= partial(fit_ko, oxidation=ox)\n",
    "            #perform the non-linear least squares fit of the Butler-Volmer model using the function fit_ko\n",
    "            popt, pcov = curve_fit(\n",
    "                    fit_ko_new, x_data_new,y_data_new, p0=guess, maxfev=5000\n",
    "                    )\n",
    "            #append fitted rate constant parameter to an array\n",
    "            ko_array.extend([popt[0]])\n",
    "            #append other important information to arrays\n",
    "            sigma.extend([np.sqrt(np.diag(pcov))])#compute one standard deviation errors on the parameters\n",
    "            iterative_eta.extend([x_data_new])\n",
    "            iterative_I.extend([y_data_new])\n",
    "            max_eta.extend([max(abs(x_data_new))])\n",
    "            \n",
    "            #ability to plot ko vs eta here. Can save image here.\n",
    "        \n",
    "        #ability to make shrinking overpotential gif here.\n",
    "    \n",
    "        #ability to compile pngs into gif\n",
    "        #kn.convert_images_to_gif(images, filename_final=path_to_plots+'final.gif', fps=10)\n",
    "    \n",
    "    #save arrays to output np arrays\n",
    "    max_eta=np.array(max_eta, dtype=object)\n",
    "    ko_array=np.array(ko_array, dtype=object)\n",
    "    sigma=np.array(sigma, dtype=object)\n",
    "    iterative_eta= np.array(iterative_eta, dtype=object)\n",
    "    iterative_I= np.array(iterative_I, dtype=object)\n",
    "    \n",
    "    \n",
    "    return max_eta, ko_array, sigma, iterative_eta, iterative_I\n"
   ]
  },
  {
   "cell_type": "code",
   "execution_count": 17,
   "metadata": {
    "tags": []
   },
   "outputs": [],
   "source": [
    "def FindSOC(V,I,SRP,T,M,s):\n",
    "    \"\"\"\n",
    "    Objective\n",
    "    ----------\n",
    "    To find the SOC of the electrolyte given its current and voltage from CV\n",
    "\n",
    "    Parameters\n",
    "    ----------\n",
    "    V : :obj:`numpy.ndarray`\n",
    "        An array of voltage values [V]\n",
    "    I : :obj:`numpy.ndarray`\n",
    "        An array of current values [A]\n",
    "    SRP : :obj:`numpy.float64`\n",
    "        Standard reduction Potential experimentally measured of theoretically found in literature [V]\n",
    "    T : :obj: `numpy.float64`\n",
    "        temperature [K]\n",
    "    M : :obj: `numpy.float64`\n",
    "        Total molarity of active material in battery system [M]\n",
    "    s : :obj: `numpy.float64`\n",
    "        sensitivity of FRP (ex. 1e-9) which dictates how many indicies are averaged to find the equalibrium potential\n",
    "\n",
    "    \"\"\"\n",
    "    T=298#K\n",
    "    n=1#electron\n",
    "    F=96485 #Faraday's constant [coulomb/mol]\n",
    "    R=8.314 #J/mol-K\n",
    "    FRP_range = np.where(np.abs(I)<s) #V is in V, I is in A\n",
    "    print('The indicies averaged to find the equalibrium potential are:', FRP_range)\n",
    "    #print(FRP_range)\n",
    "    \n",
    "    FRP=np.mean(V[FRP_range[0]]) #FRP is in V\n",
    "\n",
    "    #use the nernst equation to find the FindSOC\n",
    "    z=(FRP-SRP)*(F*n/(R*T)) #unitless\n",
    "    p=np.exp(z) #unitless\n",
    "    ox=p*M/(1+p) #solve for concentration of oxidized species#M\n",
    "    SOC= ox*100/M #solve for FindSOC#%\n",
    "\n",
    "    return SOC, FRP, ox\n"
   ]
  },
  {
   "cell_type": "markdown",
   "metadata": {
    "tags": []
   },
   "source": [
    "## plot CV at ko=1e-4 and 50% SOC"
   ]
  },
  {
   "cell_type": "code",
   "execution_count": 18,
   "metadata": {
    "tags": []
   },
   "outputs": [
    {
     "data": {
      "image/png": "[encoded data removed]",
      "text/plain": [
       "<Figure size 432x288 with 1 Axes>"
      ]
     },
     "metadata": {
      "needs_background": "light"
     },
     "output_type": "display_data"
    }
   ],
   "source": [
    "#find the equalibrium potential at zero SOC\n",
    "#find the index of minimum current\n",
    "SRP_index=np.where(abs(I)==min(abs(I)))\n",
    "#find the voltage of the index of minimum current\n",
    "SRP=V[SRP_index]\n",
    "#convert all voltages to overpotential\n",
    "eta=V-SRP\n",
    "\n",
    "#plot CV converting current in A to mA/cm^2\n",
    "#plt.rcParams.update({'font.size': 15})\n",
    "plt.rcParams['svg.fonttype'] = 'none'\n",
    "plt.plot(eta,I*1000/area,dblue)\n",
    "plt.xlim(-.58,0.58)\n",
    "plt.xlabel('Overpotential (E-E$^o$) [V]')\n",
    "plt.ylabel('Current Density [mA/cm$^2$]')\n",
    "plt.rcParams.update({'font.size': 13})  # increase the font size\n",
    "plt.savefig(f'Fig4A.svg', bbox_inches='tight',dpi=300)\n"
   ]
  },
  {
   "cell_type": "markdown",
   "metadata": {},
   "source": [
    "## find array of kinetic values "
   ]
  },
  {
   "cell_type": "code",
   "execution_count": 19,
   "metadata": {},
   "outputs": [
    {
     "name": "stdout",
     "output_type": "stream",
     "text": [
      "The indicies averaged to find the equalibrium potential are: (array([122, 123, 124]),)\n",
      "The equalibrium potential for ko=1e-4 cm/s and 50% SOC is 0.420V\n"
     ]
    },
    {
     "name": "stderr",
     "output_type": "stream",
     "text": [
      "/Users/Becca/.pyenv/versions/FlowCell/lib/python3.8/site-packages/scipy/optimize/minpack.py:833: OptimizeWarning: Covariance of the parameters could not be estimated\n",
      "  warnings.warn('Covariance of the parameters could not be estimated',\n"
     ]
    }
   ],
   "source": [
    "#make current and voltage arrays into np arrays\n",
    "V=np.array(V,dtype= object)\n",
    "I=np.array(I,dtype= object)\n",
    "\n",
    "#I is in A/cm^2\n",
    "#I*area is in A\n",
    "\n",
    "#call the FindSOC function with a low enough sensitivity to average ~3 indicies\n",
    "SOC, FRP, ox= FindSOC(V,I,SRP,T,M,5e-3)\n",
    "\n",
    "\n",
    "#define empty arrays\n",
    "max_eta_array=[]\n",
    "ko_array_array=[[]]\n",
    "sigma_array=[]\n",
    "iterative_eta_array=[]\n",
    "iterative_I_array=[]\n",
    "\n",
    "print(f'The equalibrium potential for ko=1e-4 cm/s and {SOC[0]:1.0f}% SOC is {FRP:1.3f}V')\n",
    "\n",
    "max_eta, ko_array, sigma, iterative_eta, iterative_I= Solve_ko(eta,I, SOC, FRP, ox, increment, 1e-4, path_to_plots= p2p_str)    "
   ]
  },
  {
   "cell_type": "markdown",
   "metadata": {},
   "source": [
    "### Plot Butler-Volmer fitted current with raw data"
   ]
  },
  {
   "cell_type": "code",
   "execution_count": 20,
   "metadata": {},
   "outputs": [
    {
     "data": {
      "text/plain": [
       "<matplotlib.legend.Legend at 0x1254c3790>"
      ]
     },
     "execution_count": 20,
     "metadata": {},
     "output_type": "execute_result"
    },
    {
     "data": {
      "image/png": "[encoded data removed]",
      "text/plain": [
       "<Figure size 432x288 with 1 Axes>"
      ]
     },
     "metadata": {
      "needs_background": "light"
     },
     "output_type": "display_data"
    }
   ],
   "source": [
    "plt.figure()\n",
    "plt.rcParams.update({'font.size': 15})\n",
    "\n",
    "plt.plot(eta, fit_ko(eta,ko_array[0],ox), linewidth=4, markersize=14,color=orange,label=f'Butler-Volmer fit')\n",
    "plt.plot(eta, I, linewidth=4, markersize=14,color=dblue,label=f'Simulated Voltammogram')\n",
    "plt.xlabel('Overpotential ($E-E^0$) [V]')\n",
    "plt.ylabel('Current')\n",
    "plt.ticklabel_format(axis=\"y\", style=\"sci\", scilimits=(0,0))\n",
    "plt.xlim([-0.6,0.6]) #adjusting the graph to eliminate the simulated noise at less than -0.6 V overpotential and coresponding fitted current\n",
    "\n",
    "plt.title('Simulated ko=1e-4 at 50% state of \\n charge and raw data')\n",
    "plt.legend(loc='lower right')"
   ]
  },
  {
   "cell_type": "markdown",
   "metadata": {},
   "source": [
    "### Plot ko vs overpotential"
   ]
  },
  {
   "cell_type": "code",
   "execution_count": 21,
   "metadata": {},
   "outputs": [
    {
     "data": {
      "text/plain": [
       "<matplotlib.legend.Legend at 0x12552ff40>"
      ]
     },
     "execution_count": 21,
     "metadata": {},
     "output_type": "execute_result"
    },
    {
     "data": {
      "image/png": "[encoded data removed]",
      "text/plain": [
       "<Figure size 432x288 with 1 Axes>"
      ]
     },
     "metadata": {
      "needs_background": "light"
     },
     "output_type": "display_data"
    }
   ],
   "source": [
    "#plot ko vs overpotential data for 3 SOC's\n",
    "\n",
    "plt.figure()\n",
    "plt.rcParams.update({'font.size': 15})\n",
    "\n",
    "\n",
    "plt.plot(max_eta, ko_array, marker= '.', linewidth=4, markersize=14,color=lblue,label=f'{SOC[0]:1.0f}% State of Charge')\n",
    "plt.xlabel('Overpotential [$E-E^0$] (V)')\n",
    "plt.ylabel('k$^o_{fit}$ (cm/s)')\n",
    "plt.axhline(y=1e-4,color=dblue,linestyle='--',linewidth=4, markersize=10)\n",
    "plt.ticklabel_format(axis=\"y\", style=\"sci\", scilimits=(0,0))\n",
    "plt.yscale('log')\n",
    "plt.title('Simulated ko=1e-4')\n",
    "plt.legend(loc='lower left')"
   ]
  }
 ],
 "metadata": {
  "kernelspec": {
   "display_name": "FlowCell",
   "language": "python",
   "name": "flowcell"
  },
  "language_info": {
   "codemirror_mode": {
    "name": "ipython",
    "version": 3
   },
   "file_extension": ".py",
   "mimetype": "text/x-python",
   "name": "python",
   "nbconvert_exporter": "python",
   "pygments_lexer": "ipython3",
   "version": "3.8.5"
  }
 },
 "nbformat": 4,
 "nbformat_minor": 4
}
